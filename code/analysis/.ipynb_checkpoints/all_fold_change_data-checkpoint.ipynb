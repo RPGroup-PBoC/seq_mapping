{
 "cells": [
  {
   "cell_type": "code",
   "execution_count": 2,
   "metadata": {
    "collapsed": false
   },
   "outputs": [],
   "source": [
    "import glob\n",
    "import numpy as np\n",
    "import matplotlib.pyplot as plt\n",
    "import matplotlib.cm as cm\n",
    "import matplotlib.gridspec as gridspec\n",
    "import seaborn as sns\n",
    "import sys\n",
    "import pandas as pd\n",
    "import random\n",
    "import matplotlib.lines as mlines\n",
    "import beeswarm as bs\n",
    "from scipy.special import erf\n",
    "from mpl_toolkits.axes_grid.inset_locator import inset_axes\n",
    "\n",
    "\n",
    "# Import the project utils\n",
    "import sys\n",
    "sys.path.insert(0, '../utilities/')\n",
    "import mwc_induction_utils as mwc\n",
    "import sortseq_utils as sortseq\n",
    "mwc.set_plotting_style()\n",
    "\n",
    "colors=sns.light_palette(color='#b73826', n_colors=8)\n",
    "colors_alt=sns.color_palette('Blues')\n",
    "sns.set_palette(colors)\n",
    "\n",
    "colors_qual=sns.color_palette(\n",
    "    ['#55934d', '#b73720', '#4976b7', '#dda83d', '#985c9b'])\n",
    "\n",
    "%matplotlib inline\n",
    "%config InlineBackend.figure_format = 'svg'"
   ]
  },
  {
   "cell_type": "code",
   "execution_count": null,
   "metadata": {
    "collapsed": true
   },
   "outputs": [],
   "source": [
    "# Import matrices\n",
    "\n",
    "# Import multipliers file as a dataframe\n",
    "\n",
    "mults = pd.read_csv('../../data/models/multipliers_revised', index_col=0)\n",
    "\n",
    "# Create lists of RBS and operator names\n",
    "RBS_name = ['1147', '446', '1027', 'RBS1']\n",
    "repressor_dict = dict(zip(RBS_name, [30, 62, 130, 610]))\n",
    "operator_name = ['O1', 'O2']\n",
    "\n",
    "# Make a dictionary for RBS, operator, and matrix files\n",
    "matrix_dict = {}\n",
    "\n",
    "for op in operator_name:\n",
    "    inner_dict = {}\n",
    "    for RBS in RBS_name:\n",
    "        inner_dict[RBS] = np.loadtxt('../../data/models/%s%s_fixed_linear_all' % (op, RBS), skiprows=1)\n",
    "    matrix_dict[op] = inner_dict\n",
    "    \n",
    "# Import list of mutant operators\n",
    "\n",
    "mut_ops = pd.read_csv('../../notes/Onew_mutants_list.csv')\n",
    "\n",
    "# Import measured binding energies\n",
    "\n",
    "measured = pd.read_csv('../../data/Onew_TF_titration_nonlinear_regression_summary.csv', index_col=0)\n",
    "\n",
    "# Make dictionary of mutant operators and measured binding energies\n",
    "energies_list = []\n",
    "low_list = []\n",
    "high_list = []\n",
    "mut_list = []\n",
    "seq_list = []\n",
    "for name in mut_ops.ID:\n",
    "    for op in measured.operator:\n",
    "        if name.lstrip('mut') in op:\n",
    "            energies_list.append(measured.energy_kBT[measured.operator==op].values[0])\n",
    "            low_list.append(measured.energy_kBT_low[measured.operator==op].values[0])\n",
    "            high_list.append(measured.energy_kBT_high[measured.operator==op].values[0])\n",
    "            mut_list.append(name)\n",
    "            seq_list.append(mut_ops.seq[mut_ops.ID==name].values[0])\n",
    "            \n",
    "# Make new dataframe storing these values\n",
    "df = pd.DataFrame({'ID' : mut_list, 'sequence' : seq_list,\\\n",
    "                   'measured_energy' : energies_list, 'low_bound' : low_list, 'high_bound' : high_list})"
   ]
  },
  {
   "cell_type": "code",
   "execution_count": null,
   "metadata": {
    "collapsed": true
   },
   "outputs": [],
   "source": [
    "# Import predictions\n",
    "\n",
    "preds = pd.read_csv('../../notes/binding_energy_predictions.csv', index_col=0)"
   ]
  },
  {
   "cell_type": "code",
   "execution_count": null,
   "metadata": {
    "collapsed": true
   },
   "outputs": [],
   "source": [
    "# Add predictions to dataframe\n",
    "\n",
    "O1_preds = preds.sort_values(by='mutant')['energy_prediction']\\\n",
    "           [(preds.matrix_operator=='O1') & (preds.matrix_repressor==130)].values\n",
    "O2_preds = preds.sort_values(by='mutant')['energy_prediction']\\\n",
    "           [(preds.matrix_operator=='O2') & (preds.matrix_repressor==610)].values\n",
    "\n",
    "df['O1'] = O1_preds\n",
    "df['O2'] = O2_preds"
   ]
  },
  {
   "cell_type": "code",
   "execution_count": null,
   "metadata": {
    "collapsed": false
   },
   "outputs": [],
   "source": [
    "# As we can see below, we now need to melt the data frame to make it tidy.\n",
    "df.head()"
   ]
  },
  {
   "cell_type": "code",
   "execution_count": null,
   "metadata": {
    "collapsed": false
   },
   "outputs": [],
   "source": [
    "df = pd.melt(df, id_vars=['ID', 'measured_energy', 'low_bound', 'high_bound', 'sequence'], value_vars=['O1', 'O2'], \\\n",
    "            var_name='prediction_matrix', value_name='energy_prediction')\n",
    "df.head()"
   ]
  },
  {
   "cell_type": "code",
   "execution_count": null,
   "metadata": {
    "collapsed": true
   },
   "outputs": [],
   "source": [
    "# Input function for calculating titration curves\n",
    "\n",
    "def R_titration(energy, R):\n",
    "    return(1/(1 + 2 * R/4.6E6 * np.exp(-energy)))"
   ]
  },
  {
   "cell_type": "code",
   "execution_count": null,
   "metadata": {
    "collapsed": false
   },
   "outputs": [],
   "source": [
    "datadir = '../../data/'\n",
    "# read the list of data-sets to ignore\n",
    "data_ignore = pd.read_csv(datadir + 'datasets_ignore.csv', header=None).values\n",
    "# read the all data sets except for the ones in the ignore list\n",
    "all_files = glob.glob(datadir + '2016' + '*' + '*csv') + glob.glob(datadir + '2017' + '*' + '*csv')\n",
    "ignore_files = [f for f in all_files for i in data_ignore if i[0] in f]\n",
    "read_files = [f for f in all_files if f not in ignore_files]\n",
    "print('Number of independent data-sets: {:d}'.format(len(read_files)))\n",
    "data = pd.concat(pd.read_csv(f, comment='#') for f in read_files)\n",
    "\n",
    "# Now we remove the autofluorescence and delta values\n",
    "data = data[(data.rbs != 'auto') & (data.rbs != 'delta')]\n",
    "\n",
    "data.head()"
   ]
  },
  {
   "cell_type": "code",
   "execution_count": null,
   "metadata": {
    "collapsed": true
   },
   "outputs": [],
   "source": [
    "# Replace values reading \"01new...\" with \"O1new...\"\n",
    "replace_dict = {}\n",
    "for val in data.operator.unique():\n",
    "    if val.startswith('01new'):\n",
    "        replace_dict[val] = 'O1new' + val[-3:]\n",
    "for key, val in replace_dict.items():\n",
    "    data.replace(key, val, inplace=True)"
   ]
  },
  {
   "cell_type": "code",
   "execution_count": null,
   "metadata": {
    "collapsed": false
   },
   "outputs": [],
   "source": [
    "# Replace incorrect binding energies with correct binding energies\n",
    "energies = pd.read_csv('../../data/Onew_TF_titration_nonlinear_regression_summary.csv', index_col=0)\n",
    "for op in data.operator.unique():\n",
    "    if op in energies.operator.unique():\n",
    "        data.replace(data.binding_energy[data.operator==op].unique(),\\\n",
    "                   energies.energy_kBT[energies.operator==op].unique(), inplace=True)\n",
    "data.head()"
   ]
  },
  {
   "cell_type": "code",
   "execution_count": null,
   "metadata": {
    "collapsed": false
   },
   "outputs": [],
   "source": [
    "fc_logs = np.log10(data.fold_change_A.values)\n",
    "data['fold_change_log'] = fc_logs\n"
   ]
  },
  {
   "cell_type": "code",
   "execution_count": null,
   "metadata": {
    "collapsed": false
   },
   "outputs": [],
   "source": [
    "# Remove fold change outliers\n",
    "data = data[data['fold_change_A'] < 1.1]\n",
    "\n",
    "# Calculate log of each fold change value\n",
    "fc_logs = np.log10(data.fold_change_A.values)\n",
    "data['fold_change_log'] = fc_logs\n",
    "\n",
    "# Extract the mean fold-change values for each operator-RBS pair.\n",
    "mean_fc = data.groupby(('operator', 'repressors', 'binding_energy'))['fold_change_A'].mean()\n",
    "mean_fc = mean_fc.reset_index()\n",
    "\n",
    "log_mean = data.groupby(('operator', 'repressors', 'binding_energy'))['fold_change_log'].mean()\n",
    "log_mean = log_mean.reset_index()\n",
    "\n",
    "log_std = data.groupby(('operator', 'repressors', 'binding_energy'))['fold_change_log'].std()\n",
    "log_std = log_std.reset_index()"
   ]
  },
  {
   "cell_type": "code",
   "execution_count": null,
   "metadata": {
    "collapsed": true
   },
   "outputs": [],
   "source": [
    "# Establish bounds for error bars\n",
    "mean_fc['error_up'] = 10**(log_mean.fold_change_log + log_std.fold_change_log)\n",
    "mean_fc['error_down'] = 10**(log_mean.fold_change_log - log_std.fold_change_log)"
   ]
  },
  {
   "cell_type": "code",
   "execution_count": null,
   "metadata": {
    "collapsed": false
   },
   "outputs": [],
   "source": [
    "# 1 bp mutants \n",
    "\n",
    "fig, ax = plt.subplots(ncols=3, nrows=3, sharex=True, sharey=True, figsize=(9, 9))\n",
    "mut_list = list(df.ID[0:9].values) \n",
    "mut_1 = ['O1new' + m[-3:] for m in mut_list]\n",
    "outlier_list = ['O1new012', 'O1new013', 'O1new014']\n",
    "rep_x = np.linspace(10, 1000, 100)\n",
    "color=colors_qual[0]\n",
    "\n",
    "axes = ax.ravel()\n",
    "\n",
    "for i, mut in enumerate(mut_1):\n",
    "    energy_meas = df.measured_energy[(df.ID==mut_list[i]) & (df.prediction_matrix=='O1')].values[0]\n",
    "    energy_pred = df.energy_prediction[(df.ID==mut_list[i]) & (df.prediction_matrix=='O1')].values[0]\n",
    "    error_up = df.high_bound[df.ID==mut].unique() - energy_meas\n",
    "    error_down = energy_meas - df.low_bound[df.ID==mut].unique()\n",
    "    \n",
    "    # Plot theory curve\n",
    "    axes[i].plot(rep_x, np.log10(R_titration(energy_meas, rep_x)), color=color)\n",
    "    axes[i].plot(rep_x, np.log10(R_titration(energy_pred, rep_x)), ls='--', color=color)\n",
    "    \n",
    "    # Plot data points\n",
    "    if mut in outlier_list:\n",
    "        axes[i].errorbar(log_mean.repressors[(log_mean.operator==mut) & (log_mean.repressors!=62)],\\\n",
    "                     log_mean.fold_change_log[(log_mean.operator==mut) & (log_mean.repressors!=62)],\\\n",
    "                     yerr=log_std.fold_change_log[(log_mean.operator==mut) & (log_mean.repressors!=62)],\\\n",
    "                     ls='', marker='o', zorder=9,\\\n",
    "                     label = (r'%0.1f$^{+%0.1f}_{-%0.1f}$' % (energy_meas, error_up, error_down)), color=color)\n",
    "    else:\n",
    "        axes[i].errorbar(log_mean.repressors[(log_mean.operator==mut)],\\\n",
    "                     log_mean.fold_change_log[log_mean.operator==mut],\\\n",
    "                     yerr=log_std.fold_change_log[log_mean.operator==mut], ls='', marker='o',\\\n",
    "                     zorder=9, label = (r'%0.1f$^{+%0.1f}_{-%0.1f}$' % (energy_meas, error_up, error_down)),\\\n",
    "                     color=color)\n",
    "\n",
    "    \n",
    "    axes[i].set_xscale('log')\n",
    "    axes[i].set_xlim(10, 1000)\n",
    "    axes[i].set_ylim(-4, 0)\n",
    "    axes[i].set_yticks([-4, -3, -2, -1, 0])\n",
    "    axes[i].set_yticklabels([r'$10^{-4}$', r'$10^{-3}$', r'$10^{-2}$', r'$10^{-1}$', r'$10^{0}$'])\n",
    "    \n",
    "    # Add legend\n",
    "    ims = []\n",
    "    ims.append(mlines.Line2D([], [], marker='o',label='data', linestyle='None', color=color))\n",
    "    ims.append(mlines.Line2D([], [], label=(r'$\\Delta \\varepsilon_{meas} =$ %0.2f $k_BT$' % energy_meas),\\\n",
    "                             linestyle='-', color=color))\n",
    "    ims.append(mlines.Line2D([], [], label=(r'$\\Delta \\varepsilon_{pred} =$ %0.2f $k_BT$' % energy_pred),\\\n",
    "                             linestyle='--', color=color))\n",
    "    axes[i].add_artist(axes[i].legend(handles=ims, loc='lower left', fontsize=10))\n",
    "\n",
    "for j in [0, 3, 6]:\n",
    "    axes[j].set_ylabel('fold-change') \n",
    "for k in [6, 7, 8]:\n",
    "    axes[k].set_xlabel('repressors/cell')\n",
    " \n",
    "plt.tight_layout()\n",
    "plt.savefig('temp_graphics/all_1bp.pdf', bbox_inches='tight')"
   ]
  },
  {
   "cell_type": "code",
   "execution_count": null,
   "metadata": {
    "collapsed": false
   },
   "outputs": [],
   "source": [
    "# 2 bp mutants \n",
    "\n",
    "fig, ax = plt.subplots(ncols=3, nrows=3, sharex=True, sharey=True, figsize=(9, 9))\n",
    "mut_list = list(df.ID[9:18].values) \n",
    "mut_1 = ['O1new' + m[-3:] for m in mut_list]\n",
    "outlier_list = ['O1new012', 'O1new013', 'O1new014']\n",
    "rep_x = np.linspace(10, 1000, 100)\n",
    "color=colors_qual[1]\n",
    "\n",
    "axes = ax.ravel()\n",
    "\n",
    "for i, mut in enumerate(mut_1):\n",
    "    energy_meas = df.measured_energy[(df.ID==mut_list[i]) & (df.prediction_matrix=='O1')].values[0]\n",
    "    energy_pred = df.energy_prediction[(df.ID==mut_list[i]) & (df.prediction_matrix=='O1')].values[0]\n",
    "    \n",
    "    # Plot theory curve\n",
    "    axes[i].plot(rep_x, np.log10(R_titration(energy_meas, rep_x)), color=color)\n",
    "    axes[i].plot(rep_x, np.log10(R_titration(energy_pred, rep_x)), ls='--', color=color)\n",
    "    \n",
    "    # Plot data points\n",
    "    if mut in outlier_list:\n",
    "        axes[i].errorbar(log_mean.repressors[(log_mean.operator==mut) & (log_mean.repressors!=62)],\\\n",
    "                     log_mean.fold_change_log[(log_mean.operator==mut) & (log_mean.repressors!=62)],\\\n",
    "                     yerr=log_std.fold_change_log[(log_mean.operator==mut) & (log_mean.repressors!=62)],\\\n",
    "                     ls='', marker='o', zorder=9, label = ('%0.2f' % energy), color=color)\n",
    "    else:\n",
    "        axes[i].errorbar(log_mean.repressors[(log_mean.operator==mut)],\\\n",
    "                     log_mean.fold_change_log[log_mean.operator==mut],\\\n",
    "                     yerr=log_std.fold_change_log[log_mean.operator==mut], ls='', marker='o',\\\n",
    "                     zorder=9, label = ('%0.2f' % energy), color=color)\n",
    "\n",
    "    \n",
    "    axes[i].set_xscale('log')\n",
    "    axes[i].set_xlim(10, 1000)\n",
    "    axes[i].set_ylim(-4, 0)\n",
    "    axes[i].set_yticks([-4, -3, -2, -1, 0])\n",
    "    axes[i].set_yticklabels([r'$10^{-4}$', r'$10^{-3}$', r'$10^{-2}$', r'$10^{-1}$', r'$10^{0}$'])\n",
    "    \n",
    "    # Add legend\n",
    "    ims = []\n",
    "    ims.append(mlines.Line2D([], [], marker='o',label='data', linestyle='None', color=color))\n",
    "    ims.append(mlines.Line2D([], [], label=(r'$\\Delta \\varepsilon_{meas} =$ %0.2f $k_BT$' % energy_meas),\\\n",
    "                             linestyle='-', color=color))\n",
    "    ims.append(mlines.Line2D([], [], label=(r'$\\Delta \\varepsilon_{pred} =$ %0.2f $k_BT$' % energy_pred),\\\n",
    "                             linestyle='--', color=color))\n",
    "    axes[i].add_artist(axes[i].legend(handles=ims, loc='lower left', fontsize=10))\n",
    "\n",
    "for j in [0, 3, 6]:\n",
    "    axes[j].set_ylabel('fold-change') \n",
    "for k in [6, 7, 8]:\n",
    "    axes[k].set_xlabel('repressors/cell')\n",
    " \n",
    "plt.tight_layout()\n",
    "plt.savefig('temp_graphics/all_2bp.pdf', bbox_inches='tight')"
   ]
  },
  {
   "cell_type": "code",
   "execution_count": null,
   "metadata": {
    "collapsed": false
   },
   "outputs": [],
   "source": [
    "# 1 bp mutants \n",
    "\n",
    "fig, ax = plt.subplots(ncols=3, nrows=3, sharex=True, sharey=True, figsize=(9, 9))\n",
    "mut_list = list(df.ID[19:27].values) \n",
    "mut_1 = ['O1new' + m[-3:] for m in mut_list]\n",
    "outlier_list = ['O1new012', 'O1new013', 'O1new014']\n",
    "rep_x = np.linspace(10, 1000, 100)\n",
    "color=colors_qual[2]\n",
    "\n",
    "axes = ax.ravel()\n",
    "\n",
    "for i, mut in enumerate(mut_1):\n",
    "    energy_meas = df.measured_energy[(df.ID==mut_list[i]) & (df.prediction_matrix=='O1')].values[0]\n",
    "    energy_pred = df.energy_prediction[(df.ID==mut_list[i]) & (df.prediction_matrix=='O1')].values[0]\n",
    "    \n",
    "    # Plot theory curve\n",
    "    axes[i].plot(rep_x, np.log10(R_titration(energy_meas, rep_x)), color=color)\n",
    "    axes[i].plot(rep_x, np.log10(R_titration(energy_pred, rep_x)), ls='--', color=color)\n",
    "    \n",
    "    # Plot data points\n",
    "    if mut in outlier_list:\n",
    "        axes[i].errorbar(log_mean.repressors[(log_mean.operator==mut) & (log_mean.repressors!=62)],\\\n",
    "                     log_mean.fold_change_log[(log_mean.operator==mut) & (log_mean.repressors!=62)],\\\n",
    "                     yerr=log_std.fold_change_log[(log_mean.operator==mut) & (log_mean.repressors!=62)],\\\n",
    "                     ls='', marker='o', zorder=9, label = ('%0.2f' % energy_meas), color=color)\n",
    "    else:\n",
    "        axes[i].errorbar(log_mean.repressors[(log_mean.operator==mut)],\\\n",
    "                     log_mean.fold_change_log[log_mean.operator==mut],\\\n",
    "                     yerr=log_std.fold_change_log[log_mean.operator==mut], ls='', marker='o',\\\n",
    "                     zorder=9, label = ('%0.2f' % energy_meas), color=color)\n",
    "\n",
    "    \n",
    "    axes[i].set_xscale('log')\n",
    "    axes[i].set_xlim(10, 1000)\n",
    "    axes[i].set_ylim(-4, 0)\n",
    "    axes[i].set_yticks([-4, -3, -2, -1, 0])\n",
    "    axes[i].set_yticklabels([r'$10^{-4}$', r'$10^{-3}$', r'$10^{-2}$', r'$10^{-1}$', r'$10^{0}$'])\n",
    "    \n",
    "    # Add legend\n",
    "    ims = []\n",
    "    ims.append(mlines.Line2D([], [], marker='o',label='data', linestyle='None', color=color))\n",
    "    ims.append(mlines.Line2D([], [], label=(r'$\\Delta \\varepsilon_{meas} =$ %0.2f $k_BT$' % energy_meas),\\\n",
    "                             linestyle='-', color=color))\n",
    "    ims.append(mlines.Line2D([], [], label=(r'$\\Delta \\varepsilon_{pred} =$ %0.2f $k_BT$' % energy_pred),\\\n",
    "                             linestyle='--', color=color))\n",
    "    axes[i].add_artist(axes[i].legend(handles=ims, loc='lower left', fontsize=10))\n",
    "\n",
    "\n",
    "# Turn off unneeded axes\n",
    "axes[8].axis('off')\n",
    "    \n",
    "for j in [0, 3, 6]:\n",
    "    axes[j].set_ylabel('fold-change') \n",
    "for k in [5, 6, 7]:\n",
    "    axes[k].set_xlabel('repressors/cell')\n",
    " \n",
    "plt.tight_layout()\n",
    "plt.savefig('temp_graphics/all_3bp.pdf', bbox_inches='tight')"
   ]
  },
  {
   "cell_type": "code",
   "execution_count": null,
   "metadata": {
    "collapsed": true
   },
   "outputs": [],
   "source": []
  }
 ],
 "metadata": {
  "kernelspec": {
   "display_name": "Python 3",
   "language": "python",
   "name": "python3"
  },
  "language_info": {
   "codemirror_mode": {
    "name": "ipython",
    "version": 3
   },
   "file_extension": ".py",
   "mimetype": "text/x-python",
   "name": "python",
   "nbconvert_exporter": "python",
   "pygments_lexer": "ipython3",
   "version": "3.6.3"
  }
 },
 "nbformat": 4,
 "nbformat_minor": 2
}
